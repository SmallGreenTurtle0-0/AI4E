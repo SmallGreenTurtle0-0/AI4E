{
 "cells": [
  {
   "cell_type": "markdown",
   "metadata": {
    "id": "miJ7mmoBzP1B"
   },
   "source": [
    "# Excercise 1"
   ]
  },
  {
   "cell_type": "markdown",
   "metadata": {
    "id": "5OWh_YuszP1J"
   },
   "source": [
    "Một của hàng bán áo phông với giá 20$ 1 cái. Mức độ giảm giá phụ thuộc vào số lượng áo mua như sau:\n",
    "\n",
    "| Số lượng Mức | Giảm giá |\n",
    "| --- | --- |\n",
    "| 1-9 | 0\\% |\n",
    "| 10-19 | 10\\% |\n",
    "| 20-39 | 25\\% |\n",
    "| >40 | 40\\% |\n",
    "\n",
    "Cho người dùng nhập số lượng áo muốn mua, tính ra thành tiền."
   ]
  },
  {
   "cell_type": "code",
   "execution_count": 1,
   "metadata": {
    "executionInfo": {
     "elapsed": 727,
     "status": "ok",
     "timestamp": 1608983388233,
     "user": {
      "displayName": "Green Turtle",
      "photoUrl": "",
      "userId": "03109998623938176410"
     },
     "user_tz": -420
    },
    "id": "vK7PZuVRzP1K"
   },
   "outputs": [],
   "source": [
    "def is_int(x):\n",
    "    try:\n",
    "        int(x)\n",
    "        return True\n",
    "    except:\n",
    "        return False"
   ]
  },
  {
   "cell_type": "code",
   "execution_count": 2,
   "metadata": {
    "executionInfo": {
     "elapsed": 1033,
     "status": "ok",
     "timestamp": 1608983388544,
     "user": {
      "displayName": "Green Turtle",
      "photoUrl": "",
      "userId": "03109998623938176410"
     },
     "user_tz": -420
    },
    "id": "nfHePaRAzP1K"
   },
   "outputs": [],
   "source": [
    "def total_price(n):\n",
    "    price = 20\n",
    "    if n <= 9:\n",
    "        total_p = n*price\n",
    "    elif n <= 19:\n",
    "        total_p = n*price*0.9\n",
    "    elif n <= 39:\n",
    "        total_p = n*price*0.75\n",
    "    else:\n",
    "        total_p = n*price*0.6\n",
    "    return total_p"
   ]
  },
  {
   "cell_type": "code",
   "execution_count": 3,
   "metadata": {
    "colab": {
     "base_uri": "https://localhost:8080/"
    },
    "executionInfo": {
     "elapsed": 1028,
     "status": "ok",
     "timestamp": 1608983388545,
     "user": {
      "displayName": "Green Turtle",
      "photoUrl": "",
      "userId": "03109998623938176410"
     },
     "user_tz": -420
    },
    "id": "8Ir28UtBzP1L",
    "outputId": "8d743b50-e397-4c0a-eee2-40d10a6e3af2"
   },
   "outputs": [
    {
     "name": "stdout",
     "output_type": "stream",
     "text": [
      "Total price:  540.0 $\n"
     ]
    }
   ],
   "source": [
    "# n = input(\"Enter the number of clothes: \")\n",
    "n = 36\n",
    "if not is_int(n):\n",
    "    print(\"ERR_InvalidNumber\")\n",
    "else:\n",
    "    n = int(n)\n",
    "    if n < 1:\n",
    "        print(\"ERR_InvalidNumber\")\n",
    "    else: \n",
    "        print(\"Total price: \", total_price(n), \"$\")"
   ]
  },
  {
   "cell_type": "markdown",
   "metadata": {
    "id": "Go8NLdLOzP1M"
   },
   "source": [
    "# Exersice 2"
   ]
  },
  {
   "cell_type": "markdown",
   "metadata": {
    "id": "SHGtRbOVzP1M"
   },
   "source": [
    "Cho string thể hiện số mặt con xúc xắc sau 1 số lần tung: \"1,5,2,3,5,4,4,3,1,1,1,2,3,1,5,6,2\"\n",
    "(lần 1 được mặt 1, lần 2 được mặt 5, ...)\n",
    "\n",
    "- Tính số lần tung xúc xắc.\n",
    "- Tính tổng tất cả các mặt của các lần tung.\n",
    "- Mặt nào xuất hiện nhiều nhất trong các lần tung ở trên."
   ]
  },
  {
   "cell_type": "code",
   "execution_count": 4,
   "metadata": {
    "executionInfo": {
     "elapsed": 1024,
     "status": "ok",
     "timestamp": 1608983388546,
     "user": {
      "displayName": "Green Turtle",
      "photoUrl": "",
      "userId": "03109998623938176410"
     },
     "user_tz": -420
    },
    "id": "neF1u6FXzP1M"
   },
   "outputs": [],
   "source": [
    "def is_int(x):\n",
    "    try:\n",
    "        int(x)\n",
    "        return True\n",
    "    except:\n",
    "        return False"
   ]
  },
  {
   "cell_type": "code",
   "execution_count": 5,
   "metadata": {
    "executionInfo": {
     "elapsed": 1021,
     "status": "ok",
     "timestamp": 1608983388547,
     "user": {
      "displayName": "Green Turtle",
      "photoUrl": "",
      "userId": "03109998623938176410"
     },
     "user_tz": -420
    },
    "id": "ndOi4xN9zP1N"
   },
   "outputs": [],
   "source": [
    "def is_toss(x):\n",
    "    if not is_int(x):\n",
    "        return False\n",
    "    if (int(x) > 6) | (int(x) < 1):\n",
    "        return False\n",
    "    return True        "
   ]
  },
  {
   "cell_type": "code",
   "execution_count": 6,
   "metadata": {
    "executionInfo": {
     "elapsed": 1571,
     "status": "ok",
     "timestamp": 1608983389101,
     "user": {
      "displayName": "Green Turtle",
      "photoUrl": "",
      "userId": "03109998623938176410"
     },
     "user_tz": -420
    },
    "id": "rNl6uFBizP1N"
   },
   "outputs": [],
   "source": [
    "def enter():\n",
    "    try:\n",
    "        tosses = input(\"Enter sequence of tosses: \").split(',')\n",
    "    except:\n",
    "        print(\"ERR_InvalidInput\")\n",
    "        return None\n",
    "    for i in range(len(tosses)):\n",
    "        if not is_toss(tosses[i]):\n",
    "            print(\"ERR_InvalidToss\")\n",
    "            return None\n",
    "        else:\n",
    "            tosses[i] = int(tosses[i])  \n",
    "    return tosses"
   ]
  },
  {
   "cell_type": "code",
   "execution_count": 7,
   "metadata": {
    "executionInfo": {
     "elapsed": 1568,
     "status": "ok",
     "timestamp": 1608983389102,
     "user": {
      "displayName": "Green Turtle",
      "photoUrl": "",
      "userId": "03109998623938176410"
     },
     "user_tz": -420
    },
    "id": "Z2snT6uvzP1N"
   },
   "outputs": [],
   "source": [
    "def most_appear(tosses):\n",
    "    appear = [0]*7\n",
    "    for toss in tosses:\n",
    "        appear[toss] += 1\n",
    "    \n",
    "    ans = 0 \n",
    "    max_appear = 0\n",
    "    for i in range(1, len(appear)):\n",
    "        if appear[i] >= max_appear:\n",
    "            max_appear = appear[i]\n",
    "            ans = i\n",
    "    return ans"
   ]
  },
  {
   "cell_type": "code",
   "execution_count": 8,
   "metadata": {
    "colab": {
     "base_uri": "https://localhost:8080/"
    },
    "executionInfo": {
     "elapsed": 1563,
     "status": "ok",
     "timestamp": 1608983389103,
     "user": {
      "displayName": "Green Turtle",
      "photoUrl": "",
      "userId": "03109998623938176410"
     },
     "user_tz": -420
    },
    "id": "mCxsGIxBzP1O",
    "outputId": "7ea9fd9d-27ef-4d1c-f92f-e5a9522e72be"
   },
   "outputs": [
    {
     "name": "stdout",
     "output_type": "stream",
     "text": [
      "The number of tosses:  17\n",
      "The sum of tosses:  49\n",
      "The most appearance of toss:  1\n"
     ]
    }
   ],
   "source": [
    "# tosses = enter()\n",
    "tosses = [1,5,2,3,5,4,4,3,1,1,1,2,3,1,5,6,2]\n",
    "if tosses != None:\n",
    "    print(\"The number of tosses: \", len(tosses))\n",
    "    print(\"The sum of tosses: \", sum(tosses))\n",
    "    print(\"The most appearance of toss: \", most_appear(tosses))"
   ]
  },
  {
   "cell_type": "markdown",
   "metadata": {
    "id": "wKvXDLbhzP1O"
   },
   "source": [
    "# Excercise 3"
   ]
  },
  {
   "cell_type": "markdown",
   "metadata": {
    "id": "PoCMSLuRzP1O"
   },
   "source": [
    "(a) Viết hàm nhập vào 1 số nguyên dương, tính số chữ số của nó.\n",
    "\n",
    "(b) Viết hàm tìm kiểm tra 1 số có tính chất sau: tổng các chữ số ở\n",
    "vị trí chẵn bằng tổng các chữ số ở vị trí lẻ. \n",
    "\n",
    "    Ví dụ: \n",
    "    số 143 thỏa mãn vì 4 = 1 + 3, \n",
    "    số 2530 thoả mãn vì 2 + 3 = 5 + 0, \n",
    "    số 2890 không thỏa mãn vì 2 + 9 != 8 + 0.\n",
    "\n",
    "(c) In ra các số nguyên dương nhỏ hơn 1000 thỏa mãn tính chất\n",
    "phần b."
   ]
  },
  {
   "cell_type": "code",
   "execution_count": 9,
   "metadata": {
    "executionInfo": {
     "elapsed": 1559,
     "status": "ok",
     "timestamp": 1608983389103,
     "user": {
      "displayName": "Green Turtle",
      "photoUrl": "",
      "userId": "03109998623938176410"
     },
     "user_tz": -420
    },
    "id": "VM-PGpwkzP1P"
   },
   "outputs": [],
   "source": [
    "# part a\n",
    "def is_int(x):\n",
    "    try:\n",
    "        int(x)\n",
    "        return True\n",
    "    except:\n",
    "        return False\n",
    "def is_positive(x):\n",
    "    if x > 0:\n",
    "        return True\n",
    "    else:\n",
    "        return False\n",
    "def enter_PosInt():\n",
    "    x = input(\"Enter a positive integer: \")\n",
    "    if not is_int(x):\n",
    "        print(\"ERR_InvalidInput\")\n",
    "        return None\n",
    "    x = int(x)\n",
    "    if not is_positive(x):\n",
    "        print(\"ERR_InvalidInput\")\n",
    "        return None\n",
    "    return x\n",
    "\n",
    "def sum_digits(x):\n",
    "    sum = 0\n",
    "    while x > 0:\n",
    "        sum += x%10\n",
    "        x //= 10\n",
    "    return sum\n",
    "\n",
    "def EnterSumDigits_PosInt():\n",
    "    # x = enter_PosInt()\n",
    "    x = 135\n",
    "    if x != None:\n",
    "        print(\"sum of digits of \", x, \": \", sum_digits(x))"
   ]
  },
  {
   "cell_type": "code",
   "execution_count": 10,
   "metadata": {
    "executionInfo": {
     "elapsed": 1556,
     "status": "ok",
     "timestamp": 1608983389104,
     "user": {
      "displayName": "Green Turtle",
      "photoUrl": "",
      "userId": "03109998623938176410"
     },
     "user_tz": -420
    },
    "id": "T2vrGj1vzP1P"
   },
   "outputs": [],
   "source": [
    "# part b\n",
    "def check_Esd_equal_Osd(x):\n",
    "    Esd = 0\n",
    "    Osd = 0\n",
    "    while x > 0:\n",
    "        if (x%10)%2 == 0:\n",
    "            Esd += x%10\n",
    "        else:\n",
    "            Osd += x%10\n",
    "        x //= 10\n",
    "    return Esd == Osd"
   ]
  },
  {
   "cell_type": "code",
   "execution_count": 11,
   "metadata": {
    "executionInfo": {
     "elapsed": 1553,
     "status": "ok",
     "timestamp": 1608983389105,
     "user": {
      "displayName": "Green Turtle",
      "photoUrl": "",
      "userId": "03109998623938176410"
     },
     "user_tz": -420
    },
    "id": "1MYHzkqpzP1P"
   },
   "outputs": [],
   "source": [
    "# part c\n",
    "def print_Esd_equal_Osd_1000():\n",
    "    print(\"{x| x is integer, 0<x<1000, sum of even digits = sum of odd digits}: \")\n",
    "    ans = []\n",
    "    for x in range (1, 1000):\n",
    "        if(check_Esd_equal_Osd(x)):\n",
    "            print(x, end=', ')\n",
    "            ans.append(x)\n",
    "    print('\\n')"
   ]
  },
  {
   "cell_type": "markdown",
   "metadata": {
    "id": "GkLFfV9gzP1Q"
   },
   "source": [
    "### Check part a"
   ]
  },
  {
   "cell_type": "code",
   "execution_count": 12,
   "metadata": {
    "colab": {
     "base_uri": "https://localhost:8080/"
    },
    "executionInfo": {
     "elapsed": 1549,
     "status": "ok",
     "timestamp": 1608983389105,
     "user": {
      "displayName": "Green Turtle",
      "photoUrl": "",
      "userId": "03109998623938176410"
     },
     "user_tz": -420
    },
    "id": "-XVLXetfzP1Q",
    "outputId": "f272a665-545a-4b40-ddfc-ca7b8b1df7cb"
   },
   "outputs": [
    {
     "name": "stdout",
     "output_type": "stream",
     "text": [
      "sum of digits of  135 :  9\n"
     ]
    }
   ],
   "source": [
    "EnterSumDigits_PosInt()"
   ]
  },
  {
   "cell_type": "markdown",
   "metadata": {
    "id": "-PwwDeklzP1Q"
   },
   "source": [
    "### Check part b and c"
   ]
  },
  {
   "cell_type": "code",
   "execution_count": 13,
   "metadata": {
    "colab": {
     "base_uri": "https://localhost:8080/"
    },
    "executionInfo": {
     "elapsed": 1545,
     "status": "ok",
     "timestamp": 1608983389106,
     "user": {
      "displayName": "Green Turtle",
      "photoUrl": "",
      "userId": "03109998623938176410"
     },
     "user_tz": -420
    },
    "id": "Nmg_Fd52zP1Q",
    "outputId": "f726b0f5-7849-4c72-b3c4-43dc08a38e8e"
   },
   "outputs": [
    {
     "name": "stdout",
     "output_type": "stream",
     "text": [
      "{x| x is integer, 0<x<1000, sum of even digits = sum of odd digits}: \n",
      "112, 121, 134, 143, 156, 165, 178, 187, 211, 314, 336, 341, 358, 363, 385, 413, 431, 516, 538, 561, 583, 615, 633, 651, 718, 781, 817, 835, 853, 871, \n",
      "\n"
     ]
    }
   ],
   "source": [
    "print_Esd_equal_Osd_1000()"
   ]
  },
  {
   "cell_type": "markdown",
   "metadata": {
    "id": "Fm4bCjMWzP1R"
   },
   "source": [
    "# Excercise 4"
   ]
  },
  {
   "cell_type": "markdown",
   "metadata": {
    "id": "BW7Lp7l5zP1R"
   },
   "source": [
    "Cho 1 lưới n x n với các ô có 2 trạng thái: còn sống hoặc đã chết. 1\n",
    "ô bất kỳ có nhiều nhất 8 ô hàng xóm của nó ( ngang, dọc, chéo). Cho 1\n",
    "lưới với một số ô có thể còn sống hoặc đã chết ở thế hệ hiện tại. Các ô ở\n",
    "thế hệ tiếp theo sẽ là ô sống hay ô chết được xác định dựa vào các ô ở thế\n",
    "hệ hiện tại với các quy tắc sau:\n",
    "\n",
    "![image.png](data:image/png;base64,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)\n",
    "\n",
    "- Bất kỳ ô sống nào có ít hơn 2 người hàng xóm còn sống thì sẽ chết.\n",
    "- Bất kỳ ô sống nào có 2 hoặc 3 người hàng xóm còn sống thì sẽ sống.\n",
    "- Bất kỳ ô sống nào có nhiều hơn 3 người hàng xóm còn sống thì sẽ chết.\n",
    "- Bất kỳ ô chết nào có đúng 3 hàng xóm sống sẽ trở thành ô sống.\n",
    "- Các ô chết còn lại thì vẫn chết.\n",
    "\n",
    "Cho ô lưới 5x5 , 1 đại diện cho ô còn sống, 0 đại diện cho ô đã chết. Viết\n",
    "hàm dự đoán thế hệ tiếp theo của ô lưới đã cho (input là lưới 5x5 thế hệ\n",
    "hiện tại, output là lưới 5x5 thế hệ tiếp theo). Các ô ở viền thì không cập\n",
    "nhật trạng thái (chỉ cập nhật các ô có đủ 8 ô hàng xóm).\n",
    "\n",
    "![image.png](data:image/png;base64,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)\n"
   ]
  },
  {
   "cell_type": "code",
   "execution_count": 14,
   "metadata": {
    "executionInfo": {
     "elapsed": 1541,
     "status": "ok",
     "timestamp": 1608983389107,
     "user": {
      "displayName": "Green Turtle",
      "photoUrl": "",
      "userId": "03109998623938176410"
     },
     "user_tz": -420
    },
    "id": "BnnkKJHZzP1R"
   },
   "outputs": [],
   "source": [
    "def enter_hand():\n",
    "    matrix = []\n",
    "    n = int(input(\"Enter the size of matrix (n): \"))\n",
    "    for i in range(0, n):\n",
    "        matrix.append([int(x) for x in input(\"Enter the {}-th row of matrix: \".format(i+1)).split()])\n",
    "    return matrix"
   ]
  },
  {
   "cell_type": "code",
   "execution_count": 15,
   "metadata": {
    "executionInfo": {
     "elapsed": 1538,
     "status": "ok",
     "timestamp": 1608983389108,
     "user": {
      "displayName": "Green Turtle",
      "photoUrl": "",
      "userId": "03109998623938176410"
     },
     "user_tz": -420
    },
    "id": "R59exA7Aljj1"
   },
   "outputs": [],
   "source": [
    "import os\n",
    "def enter_file():\n",
    "    inPath = os.path.join(os.getcwd(), \"1.inp\")\n",
    "    if not os.path.exists(inPath):\n",
    "        # print(\"ERR_NotAvailableInputfile\")\n",
    "        # print(\"use enter_hand() instead\")       \n",
    "        # return None\n",
    "        os.system('echo \"0 0 0 0 0\" >> 1.inp')\n",
    "        os.system('echo \"0 1 1 0 0\" >> 1.inp')\n",
    "        os.system('echo \"0 1 1 0 0\" >> 1.inp')\n",
    "        os.system('echo \"0 0 1 0 0\" >> 1.inp')\n",
    "        os.system('echo \"0 0 0 0 0\" >> 1.inp')        \n",
    "    matrix = []\n",
    "    with open(inPath) as f:\n",
    "        rows = f.readlines()\n",
    "        for row in rows:\n",
    "            matrix.append([int(x) for x in row.split()])\n",
    "    return matrix"
   ]
  },
  {
   "cell_type": "code",
   "execution_count": 16,
   "metadata": {
    "executionInfo": {
     "elapsed": 1535,
     "status": "ok",
     "timestamp": 1608983389108,
     "user": {
      "displayName": "Green Turtle",
      "photoUrl": "",
      "userId": "03109998623938176410"
     },
     "user_tz": -420
    },
    "id": "2GA0WdcBzP1R"
   },
   "outputs": [],
   "source": [
    "def change_state(matrix):\n",
    "    n = len(matrix)\n",
    "    ns = 8\n",
    "    dx = [0, 0, -1, -1, -1, +1, +1, +1]\n",
    "    dy = [-1, +1, 0, +1, -1, 0, +1, -1]\n",
    "\n",
    "    ans = []\n",
    "    for row in matrix:\n",
    "        ans.append(row.copy())\n",
    "    for i in range(1, n-1):\n",
    "        for j in range(1, n-1):\n",
    "            sum = 0\n",
    "            for s in range(0, ns):\n",
    "                sum += matrix[i+dx[s]][j+dy[s]]\n",
    "            if matrix[i][j] == 1:\n",
    "                if ((sum > 3) | (sum < 2)):\n",
    "                    ans[i][j] = 0\n",
    "            if matrix[i][j] == 0:\n",
    "                if sum == 3:\n",
    "                    ans[i][j] = 1\n",
    "    return ans"
   ]
  },
  {
   "cell_type": "code",
   "execution_count": 17,
   "metadata": {
    "colab": {
     "base_uri": "https://localhost:8080/"
    },
    "executionInfo": {
     "elapsed": 1533,
     "status": "ok",
     "timestamp": 1608983389109,
     "user": {
      "displayName": "Green Turtle",
      "photoUrl": "",
      "userId": "03109998623938176410"
     },
     "user_tz": -420
    },
    "id": "80UDIGoR_wgo",
    "outputId": "28096474-5ad5-4f10-d0c5-bdda216cd372"
   },
   "outputs": [
    {
     "data": {
      "text/plain": [
       "[[0, 0, 0, 0, 0],\n",
       " [0, 1, 1, 0, 0],\n",
       " [0, 1, 1, 0, 0],\n",
       " [0, 0, 1, 0, 0],\n",
       " [0, 0, 0, 0, 0]]"
      ]
     },
     "execution_count": 17,
     "metadata": {},
     "output_type": "execute_result"
    }
   ],
   "source": [
    "matrix = enter_file() \n",
    "# if(matrix == None):\n",
    "#     matrix = enter_hand()\n",
    "matrix"
   ]
  },
  {
   "cell_type": "code",
   "execution_count": 18,
   "metadata": {
    "colab": {
     "base_uri": "https://localhost:8080/"
    },
    "executionInfo": {
     "elapsed": 1529,
     "status": "ok",
     "timestamp": 1608983389110,
     "user": {
      "displayName": "Green Turtle",
      "photoUrl": "",
      "userId": "03109998623938176410"
     },
     "user_tz": -420
    },
    "id": "FnHvPXlujcc5",
    "outputId": "4ef4c606-5c76-414d-8ede-f4aa6dbcb933"
   },
   "outputs": [
    {
     "name": "stdout",
     "output_type": "stream",
     "text": [
      "[[0, 0, 0, 0, 0], [0, 1, 1, 0, 0], [0, 0, 0, 1, 0], [0, 1, 1, 0, 0], [0, 0, 0, 0, 0]]\n"
     ]
    }
   ],
   "source": [
    "if matrix != None:\n",
    "    ans = change_state(matrix)\n",
    "    print(ans)"
   ]
  }
 ],
 "metadata": {
  "accelerator": "GPU",
  "colab": {
   "collapsed_sections": [],
   "name": "HW1.ipynb",
   "provenance": [],
   "toc_visible": true
  },
  "kernelspec": {
   "display_name": "Python 3",
   "language": "python",
   "name": "python3"
  },
  "language_info": {
   "codemirror_mode": {
    "name": "ipython",
    "version": 3
   },
   "file_extension": ".py",
   "mimetype": "text/x-python",
   "name": "python",
   "nbconvert_exporter": "python",
   "pygments_lexer": "ipython3",
   "version": "3.8.5"
  }
 },
 "nbformat": 4,
 "nbformat_minor": 1
}
